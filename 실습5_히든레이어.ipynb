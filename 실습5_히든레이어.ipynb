{
  "nbformat": 4,
  "nbformat_minor": 0,
  "metadata": {
    "colab": {
      "name": "실습5 - 히든레이어.ipynb",
      "provenance": [],
      "authorship_tag": "ABX9TyNhzNyNHzpHOjXLszpm8BWg",
      "include_colab_link": true
    },
    "kernelspec": {
      "name": "python3",
      "display_name": "Python 3"
    },
    "language_info": {
      "name": "python"
    }
  },
  "cells": [
    {
      "cell_type": "markdown",
      "metadata": {
        "id": "view-in-github",
        "colab_type": "text"
      },
      "source": [
        "<a href=\"https://colab.research.google.com/github/kimeunh3/Intro_to_Tensorflow/blob/main/%EC%8B%A4%EC%8A%B55_%ED%9E%88%EB%93%A0%EB%A0%88%EC%9D%B4%EC%96%B4.ipynb\" target=\"_parent\"><img src=\"https://colab.research.google.com/assets/colab-badge.svg\" alt=\"Open In Colab\"/></a>"
      ]
    },
    {
      "cell_type": "markdown",
      "metadata": {
        "id": "iFm5NMtnRXhv"
      },
      "source": [
        "# 히든레이어\n",
        " - 보스턴 집값 예측: ['https://raw.githubusercontent.com/blackdew/tensorflow1/master/csv/boston.csv'](https://raw.githubusercontent.com/blackdew/tensorflow1/master/csv/boston.csv)\n",
        " - 아이리스 품종 분류: ['https://raw.githubusercontent.com/blackdew/tensorflow1/master/csv/iris.csv'](https://raw.githubusercontent.com/blackdew/tensorflow1/master/csv/iris.csv)"
      ]
    },
    {
      "cell_type": "code",
      "metadata": {
        "id": "DVPe3HxHU99k"
      },
      "source": [
        "# 라이브러리 사용\n",
        "import tensorflow as tf\n",
        "import pandas as pd"
      ],
      "execution_count": 1,
      "outputs": []
    },
    {
      "cell_type": "markdown",
      "metadata": {
        "id": "lNTejXKYU_B_"
      },
      "source": [
        "# 보스턴 집값 예측"
      ]
    },
    {
      "cell_type": "code",
      "metadata": {
        "colab": {
          "base_uri": "https://localhost:8080/"
        },
        "id": "m02ixsHLU_Q3",
        "outputId": "4963ed8f-b3c3-44f7-a767-221adba0154f"
      },
      "source": [
        "# 1. 과거의 데이터를 준비합니다.\n",
        "파일경로 = 'https://raw.githubusercontent.com/blackdew/tensorflow1/master/csv/boston.csv'\n",
        "보스턴 = pd.read_csv(파일경로)\n",
        "\n",
        "# 독립변수, 종속변수\n",
        "독립 = 보스턴[['crim', 'zn', 'indus', 'chas', 'nox', 'rm', 'age', 'dis', 'rad', \n",
        "          'tax', 'ptratio', 'b', 'lstat']]\n",
        "종속 = 보스턴[['medv']]\n",
        "print(독립.shape, 종속.shape)"
      ],
      "execution_count": 17,
      "outputs": [
        {
          "output_type": "stream",
          "name": "stdout",
          "text": [
            "(506, 13) (506, 1)\n"
          ]
        }
      ]
    },
    {
      "cell_type": "code",
      "metadata": {
        "id": "moXz_RF9Z3HW"
      },
      "source": [
        "# 2. 모델의 구조를 만듭니다.\n",
        "X = tf.keras.layers.Input(shape=[13])\n",
        "H = tf.keras.layers.Dense(10, activation='swish')(X)\n",
        "Y = tf.keras.layers.Dense(1)(H)\n",
        "model = tf.keras.models.Model(X, Y)\n",
        "model.compile(loss='mse')"
      ],
      "execution_count": 18,
      "outputs": []
    },
    {
      "cell_type": "code",
      "metadata": {
        "colab": {
          "base_uri": "https://localhost:8080/"
        },
        "id": "ARipCJUka19N",
        "outputId": "861b2d84-fa0e-47ed-a25c-408792632097"
      },
      "source": [
        "model.summary()"
      ],
      "execution_count": 19,
      "outputs": [
        {
          "output_type": "stream",
          "name": "stdout",
          "text": [
            "Model: \"model_1\"\n",
            "_________________________________________________________________\n",
            "Layer (type)                 Output Shape              Param #   \n",
            "=================================================================\n",
            "input_2 (InputLayer)         [(None, 13)]              0         \n",
            "_________________________________________________________________\n",
            "dense_2 (Dense)              (None, 10)                140       \n",
            "_________________________________________________________________\n",
            "dense_3 (Dense)              (None, 1)                 11        \n",
            "=================================================================\n",
            "Total params: 151\n",
            "Trainable params: 151\n",
            "Non-trainable params: 0\n",
            "_________________________________________________________________\n"
          ]
        }
      ]
    },
    {
      "cell_type": "code",
      "metadata": {
        "colab": {
          "base_uri": "https://localhost:8080/"
        },
        "id": "ZAp-cMIlaE5s",
        "outputId": "825e32b0-3ec4-4a23-c768-f3b7bd3c206e"
      },
      "source": [
        "# 3. 데이터로 모델을 학습(FIT)합니다.\n",
        "model.fit(독립, 종속, epochs=1000, verbose=0)\n",
        "model.fit(독립, 종속, epochs=10)"
      ],
      "execution_count": 22,
      "outputs": [
        {
          "output_type": "stream",
          "name": "stdout",
          "text": [
            "Epoch 1/10\n",
            "16/16 [==============================] - 0s 2ms/step - loss: 18.3896\n",
            "Epoch 2/10\n",
            "16/16 [==============================] - 0s 1ms/step - loss: 17.5469\n",
            "Epoch 3/10\n",
            "16/16 [==============================] - 0s 1ms/step - loss: 16.9601\n",
            "Epoch 4/10\n",
            "16/16 [==============================] - 0s 1ms/step - loss: 19.6168\n",
            "Epoch 5/10\n",
            "16/16 [==============================] - 0s 1ms/step - loss: 16.9866\n",
            "Epoch 6/10\n",
            "16/16 [==============================] - 0s 1ms/step - loss: 18.5608\n",
            "Epoch 7/10\n",
            "16/16 [==============================] - 0s 1ms/step - loss: 19.0937\n",
            "Epoch 8/10\n",
            "16/16 [==============================] - 0s 2ms/step - loss: 17.8204\n",
            "Epoch 9/10\n",
            "16/16 [==============================] - 0s 2ms/step - loss: 18.0966\n",
            "Epoch 10/10\n",
            "16/16 [==============================] - 0s 1ms/step - loss: 18.1608\n"
          ]
        },
        {
          "output_type": "execute_result",
          "data": {
            "text/plain": [
              "<keras.callbacks.History at 0x7ff747179d90>"
            ]
          },
          "metadata": {},
          "execution_count": 22
        }
      ]
    },
    {
      "cell_type": "code",
      "metadata": {
        "colab": {
          "base_uri": "https://localhost:8080/"
        },
        "id": "6eJKvM06aGvm",
        "outputId": "f22418e4-90a5-451a-dad1-49c86a5d5b5b"
      },
      "source": [
        "# 4. 모델을 이용합니다.\n",
        "print(model.predict(독립[:5]))\n",
        "print(종속[:5])"
      ],
      "execution_count": 23,
      "outputs": [
        {
          "output_type": "stream",
          "name": "stdout",
          "text": [
            "[[29.828133]\n",
            " [25.704052]\n",
            " [34.449596]\n",
            " [35.518044]\n",
            " [34.62385 ]]\n",
            "   medv\n",
            "0  24.0\n",
            "1  21.6\n",
            "2  34.7\n",
            "3  33.4\n",
            "4  36.2\n"
          ]
        }
      ]
    },
    {
      "cell_type": "markdown",
      "metadata": {
        "id": "z1H0h7C1U_dt"
      },
      "source": [
        "# 아이리스 품종 분류"
      ]
    },
    {
      "cell_type": "code",
      "metadata": {
        "colab": {
          "base_uri": "https://localhost:8080/"
        },
        "id": "ppvGmZs6U_r8",
        "outputId": "4c53f63e-9b00-4e1a-9423-a978e3c75547"
      },
      "source": [
        "# 1. 과거의 데이터를 준비합니다.\n",
        "파일경로 = 'https://raw.githubusercontent.com/blackdew/tensorflow1/master/csv/iris.csv'\n",
        "아이리스 = pd.read_csv(파일경로)\n",
        "\n",
        "# 원핫인코딩\n",
        "인코딩 = pd.get_dummies(아이리스)\n",
        "\n",
        "# 독립변수, 종속변수\n",
        "독립 = 인코딩[['꽃잎길이', '꽃잎폭', '꽃받침길이', '꽃받침폭']] \n",
        "종속 = 인코딩[['품종_setosa', '품종_versicolor', '품종_virginica']]\n",
        "print(독립.shape, 종속.shape)"
      ],
      "execution_count": 25,
      "outputs": [
        {
          "output_type": "stream",
          "name": "stdout",
          "text": [
            "(150, 4) (150, 3)\n"
          ]
        }
      ]
    },
    {
      "cell_type": "code",
      "metadata": {
        "id": "fKJyoGweU_3q"
      },
      "source": [
        "# 2. 모델의 구조를 만듭니다.\n",
        "X = tf.keras.layers.Input(shape=[4])\n",
        "H = tf.keras.layers.Dense(8, activation='swish')(X)\n",
        "H = tf.keras.layers.Dense(8, activation='swish')(H)\n",
        "H = tf.keras.layers.Dense(8, activation='swish')(H)\n",
        "Y = tf.keras.layers.Dense(3, activation='softmax')(H)\n",
        "model = tf.keras.models.Model(X, Y)\n",
        "model.compile(loss='categorical_crossentropy',\n",
        "              metrics='accuracy')"
      ],
      "execution_count": 27,
      "outputs": []
    },
    {
      "cell_type": "code",
      "metadata": {
        "colab": {
          "base_uri": "https://localhost:8080/"
        },
        "id": "zbf32OEPVAFT",
        "outputId": "b6bfd19d-e8cd-4a89-baeb-2f26eacdaa6c"
      },
      "source": [
        "# 3. 데이터로 모델을 학습(FIT)합니다.\n",
        "model.fit(독립, 종속, epochs=100, verbose=0)\n",
        "model.fit(독립, 종속, epochs=10)"
      ],
      "execution_count": 32,
      "outputs": [
        {
          "output_type": "stream",
          "name": "stdout",
          "text": [
            "Epoch 1/10\n",
            "5/5 [==============================] - 0s 3ms/step - loss: 0.0780 - accuracy: 0.9733\n",
            "Epoch 2/10\n",
            "5/5 [==============================] - 0s 2ms/step - loss: 0.0799 - accuracy: 0.9733\n",
            "Epoch 3/10\n",
            "5/5 [==============================] - 0s 2ms/step - loss: 0.0847 - accuracy: 0.9667\n",
            "Epoch 4/10\n",
            "5/5 [==============================] - 0s 2ms/step - loss: 0.0770 - accuracy: 0.9733\n",
            "Epoch 5/10\n",
            "5/5 [==============================] - 0s 2ms/step - loss: 0.0742 - accuracy: 0.9667\n",
            "Epoch 6/10\n",
            "5/5 [==============================] - 0s 2ms/step - loss: 0.0790 - accuracy: 0.9600\n",
            "Epoch 7/10\n",
            "5/5 [==============================] - 0s 3ms/step - loss: 0.0772 - accuracy: 0.9667\n",
            "Epoch 8/10\n",
            "5/5 [==============================] - 0s 2ms/step - loss: 0.0763 - accuracy: 0.9800\n",
            "Epoch 9/10\n",
            "5/5 [==============================] - 0s 3ms/step - loss: 0.0754 - accuracy: 0.9667\n",
            "Epoch 10/10\n",
            "5/5 [==============================] - 0s 4ms/step - loss: 0.0790 - accuracy: 0.9600\n"
          ]
        },
        {
          "output_type": "execute_result",
          "data": {
            "text/plain": [
              "<keras.callbacks.History at 0x7ff746f45d90>"
            ]
          },
          "metadata": {},
          "execution_count": 32
        }
      ]
    },
    {
      "cell_type": "code",
      "metadata": {
        "colab": {
          "base_uri": "https://localhost:8080/"
        },
        "id": "V53HAIj3c8VU",
        "outputId": "ab4a25c3-549e-4932-ddab-f18577c0c702"
      },
      "source": [
        "# 4. 모델을 이용합니다.\n",
        "print(model.predict(독립[-5:]))\n",
        "print(종속[-5:])"
      ],
      "execution_count": 34,
      "outputs": [
        {
          "output_type": "stream",
          "name": "stdout",
          "text": [
            "[[1.7564440e-10 9.4090858e-03 9.9059087e-01]\n",
            " [1.4055725e-09 1.4018092e-02 9.8598194e-01]\n",
            " [7.3105890e-09 6.6363767e-02 9.3363625e-01]\n",
            " [3.0752276e-09 3.8895249e-02 9.6110475e-01]\n",
            " [2.5500771e-07 2.7132502e-01 7.2867471e-01]]\n",
            "     품종_setosa  품종_versicolor  품종_virginica\n",
            "145          0              0             1\n",
            "146          0              0             1\n",
            "147          0              0             1\n",
            "148          0              0             1\n",
            "149          0              0             1\n"
          ]
        }
      ]
    }
  ]
}