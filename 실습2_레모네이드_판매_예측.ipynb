{
  "nbformat": 4,
  "nbformat_minor": 0,
  "metadata": {
    "colab": {
      "name": "실습2 - 레모네이드 판매 예측.ipynb",
      "provenance": [],
      "authorship_tag": "ABX9TyNrwJXNT9jSHv7NMOOCPPJA",
      "include_colab_link": true
    },
    "kernelspec": {
      "name": "python3",
      "display_name": "Python 3"
    },
    "language_info": {
      "name": "python"
    }
  },
  "cells": [
    {
      "cell_type": "markdown",
      "metadata": {
        "id": "view-in-github",
        "colab_type": "text"
      },
      "source": [
        "<a href=\"https://colab.research.google.com/github/kimeunh3/Intro_to_Tensorflow/blob/main/%EC%8B%A4%EC%8A%B52_%EB%A0%88%EB%AA%A8%EB%84%A4%EC%9D%B4%EB%93%9C_%ED%8C%90%EB%A7%A4_%EC%98%88%EC%B8%A1.ipynb\" target=\"_parent\"><img src=\"https://colab.research.google.com/assets/colab-badge.svg\" alt=\"Open In Colab\"/></a>"
      ]
    },
    {
      "cell_type": "markdown",
      "metadata": {
        "id": "lHmktRcKo_3H"
      },
      "source": [
        "# 레모네이드 판매 예측\n",
        " - github csv url: ['https://raw.githubusercontent.com/blackdew/tensorflow1/master/csv/lemonade.csv'](https://raw.githubusercontent.com/blackdew/tensorflow1/master/csv/lemonade.csv)"
      ]
    },
    {
      "cell_type": "code",
      "metadata": {
        "id": "BMxqLcUd4G2y"
      },
      "source": [
        "# 라이브러리 사용\n",
        "import tensorflow as tf\n",
        "import pandas as pd"
      ],
      "execution_count": 2,
      "outputs": []
    },
    {
      "cell_type": "code",
      "metadata": {
        "colab": {
          "base_uri": "https://localhost:8080/",
          "height": 203
        },
        "id": "YANKgeOA4UqQ",
        "outputId": "468f1105-6b61-469f-c021-dc8fbcc8a8a6"
      },
      "source": [
        "# 데이터 준비\n",
        "파일경로 = 'https://raw.githubusercontent.com/blackdew/tensorflow1/master/csv/lemonade.csv'\n",
        "데이터 = pd.read_csv(파일경로)\n",
        "데이터.head()"
      ],
      "execution_count": 3,
      "outputs": [
        {
          "output_type": "execute_result",
          "data": {
            "text/html": [
              "<div>\n",
              "<style scoped>\n",
              "    .dataframe tbody tr th:only-of-type {\n",
              "        vertical-align: middle;\n",
              "    }\n",
              "\n",
              "    .dataframe tbody tr th {\n",
              "        vertical-align: top;\n",
              "    }\n",
              "\n",
              "    .dataframe thead th {\n",
              "        text-align: right;\n",
              "    }\n",
              "</style>\n",
              "<table border=\"1\" class=\"dataframe\">\n",
              "  <thead>\n",
              "    <tr style=\"text-align: right;\">\n",
              "      <th></th>\n",
              "      <th>온도</th>\n",
              "      <th>판매량</th>\n",
              "    </tr>\n",
              "  </thead>\n",
              "  <tbody>\n",
              "    <tr>\n",
              "      <th>0</th>\n",
              "      <td>20</td>\n",
              "      <td>40</td>\n",
              "    </tr>\n",
              "    <tr>\n",
              "      <th>1</th>\n",
              "      <td>21</td>\n",
              "      <td>42</td>\n",
              "    </tr>\n",
              "    <tr>\n",
              "      <th>2</th>\n",
              "      <td>22</td>\n",
              "      <td>44</td>\n",
              "    </tr>\n",
              "    <tr>\n",
              "      <th>3</th>\n",
              "      <td>23</td>\n",
              "      <td>46</td>\n",
              "    </tr>\n",
              "    <tr>\n",
              "      <th>4</th>\n",
              "      <td>24</td>\n",
              "      <td>48</td>\n",
              "    </tr>\n",
              "  </tbody>\n",
              "</table>\n",
              "</div>"
            ],
            "text/plain": [
              "   온도  판매량\n",
              "0  20   40\n",
              "1  21   42\n",
              "2  22   44\n",
              "3  23   46\n",
              "4  24   48"
            ]
          },
          "metadata": {},
          "execution_count": 3
        }
      ]
    },
    {
      "cell_type": "code",
      "metadata": {
        "colab": {
          "base_uri": "https://localhost:8080/"
        },
        "id": "2HJXok4j4yLC",
        "outputId": "9c11036c-79f0-4ec8-985c-b409f1a53b5b"
      },
      "source": [
        "# 종속변수, 독립변수\n",
        "독립 = 데이터[['온도']]\n",
        "종속 = 데이터[['판매량']]\n",
        "print(독립.shape, 종속.shape)"
      ],
      "execution_count": 4,
      "outputs": [
        {
          "output_type": "stream",
          "name": "stdout",
          "text": [
            "(6, 1) (6, 1)\n"
          ]
        }
      ]
    },
    {
      "cell_type": "code",
      "metadata": {
        "id": "RjeVK8Js4VGv"
      },
      "source": [
        "# 모델을 만듭니다.\n",
        "X = tf.keras.layers.Input(shape=[1])\n",
        "Y = tf.keras.layers.Dense(1)(X)\n",
        "model = tf.keras.models.Model(X, Y)\n",
        "model.compile(loss='mse')"
      ],
      "execution_count": 5,
      "outputs": []
    },
    {
      "cell_type": "code",
      "metadata": {
        "colab": {
          "base_uri": "https://localhost:8080/"
        },
        "id": "WZZjiC3U4VVJ",
        "outputId": "233fe67d-00c4-459b-88c5-351deb59bfde"
      },
      "source": [
        "# 모델을 학습합니다.\n",
        "# model.fit(독립, 종속, epochs=10000, verbose=0) 10000번 학습시키되 과정출력 생략\n",
        "model.fit(독립, 종속, epochs=10)"
      ],
      "execution_count": 7,
      "outputs": [
        {
          "output_type": "stream",
          "name": "stdout",
          "text": [
            "Epoch 1/10\n",
            "1/1 [==============================] - 0s 5ms/step - loss: 1.5116e-04\n",
            "Epoch 2/10\n",
            "1/1 [==============================] - 0s 7ms/step - loss: 1.5107e-04\n",
            "Epoch 3/10\n",
            "1/1 [==============================] - 0s 6ms/step - loss: 1.5098e-04\n",
            "Epoch 4/10\n",
            "1/1 [==============================] - 0s 6ms/step - loss: 1.5100e-04\n",
            "Epoch 5/10\n",
            "1/1 [==============================] - 0s 7ms/step - loss: 1.5105e-04\n",
            "Epoch 6/10\n",
            "1/1 [==============================] - 0s 8ms/step - loss: 1.5115e-04\n",
            "Epoch 7/10\n",
            "1/1 [==============================] - 0s 6ms/step - loss: 1.5133e-04\n",
            "Epoch 8/10\n",
            "1/1 [==============================] - 0s 8ms/step - loss: 1.5148e-04\n",
            "Epoch 9/10\n",
            "1/1 [==============================] - 0s 4ms/step - loss: 1.5153e-04\n",
            "Epoch 10/10\n",
            "1/1 [==============================] - 0s 7ms/step - loss: 1.5150e-04\n"
          ]
        },
        {
          "output_type": "execute_result",
          "data": {
            "text/plain": [
              "<keras.callbacks.History at 0x7f4fe89ec2d0>"
            ]
          },
          "metadata": {},
          "execution_count": 7
        }
      ]
    },
    {
      "cell_type": "code",
      "metadata": {
        "colab": {
          "base_uri": "https://localhost:8080/"
        },
        "id": "uiTxwiXM4Vrw",
        "outputId": "8591e4d5-531d-40d4-e3d3-ebc12afb78a0"
      },
      "source": [
        "# 모델을 이용합니다.\n",
        "model.predict(독립)"
      ],
      "execution_count": 8,
      "outputs": [
        {
          "output_type": "execute_result",
          "data": {
            "text/plain": [
              "array([[40.015903],\n",
              "       [42.014347],\n",
              "       [44.01279 ],\n",
              "       [46.01124 ],\n",
              "       [48.00968 ],\n",
              "       [50.008125]], dtype=float32)"
            ]
          },
          "metadata": {},
          "execution_count": 8
        }
      ]
    },
    {
      "cell_type": "code",
      "metadata": {
        "colab": {
          "base_uri": "https://localhost:8080/",
          "height": 234
        },
        "id": "O2f5u5Ud6fwi",
        "outputId": "91381880-8ae0-43a8-bf12-e43ee07fbc97"
      },
      "source": [
        "# 실제 결과와 비교\n",
        "종속"
      ],
      "execution_count": 9,
      "outputs": [
        {
          "output_type": "execute_result",
          "data": {
            "text/html": [
              "<div>\n",
              "<style scoped>\n",
              "    .dataframe tbody tr th:only-of-type {\n",
              "        vertical-align: middle;\n",
              "    }\n",
              "\n",
              "    .dataframe tbody tr th {\n",
              "        vertical-align: top;\n",
              "    }\n",
              "\n",
              "    .dataframe thead th {\n",
              "        text-align: right;\n",
              "    }\n",
              "</style>\n",
              "<table border=\"1\" class=\"dataframe\">\n",
              "  <thead>\n",
              "    <tr style=\"text-align: right;\">\n",
              "      <th></th>\n",
              "      <th>판매량</th>\n",
              "    </tr>\n",
              "  </thead>\n",
              "  <tbody>\n",
              "    <tr>\n",
              "      <th>0</th>\n",
              "      <td>40</td>\n",
              "    </tr>\n",
              "    <tr>\n",
              "      <th>1</th>\n",
              "      <td>42</td>\n",
              "    </tr>\n",
              "    <tr>\n",
              "      <th>2</th>\n",
              "      <td>44</td>\n",
              "    </tr>\n",
              "    <tr>\n",
              "      <th>3</th>\n",
              "      <td>46</td>\n",
              "    </tr>\n",
              "    <tr>\n",
              "      <th>4</th>\n",
              "      <td>48</td>\n",
              "    </tr>\n",
              "    <tr>\n",
              "      <th>5</th>\n",
              "      <td>50</td>\n",
              "    </tr>\n",
              "  </tbody>\n",
              "</table>\n",
              "</div>"
            ],
            "text/plain": [
              "   판매량\n",
              "0   40\n",
              "1   42\n",
              "2   44\n",
              "3   46\n",
              "4   48\n",
              "5   50"
            ]
          },
          "metadata": {},
          "execution_count": 9
        }
      ]
    },
    {
      "cell_type": "code",
      "metadata": {
        "colab": {
          "base_uri": "https://localhost:8080/"
        },
        "id": "b7SUIsp-6ngH",
        "outputId": "e3842be5-99ac-405b-8299-04b1ec216eaa"
      },
      "source": [
        "# 다른 값 예측\n",
        "model.predict([[15]])"
      ],
      "execution_count": 10,
      "outputs": [
        {
          "output_type": "execute_result",
          "data": {
            "text/plain": [
              "array([[30.023684]], dtype=float32)"
            ]
          },
          "metadata": {},
          "execution_count": 10
        }
      ]
    }
  ]
}